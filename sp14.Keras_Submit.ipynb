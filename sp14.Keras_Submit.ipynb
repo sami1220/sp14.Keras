{
  "nbformat": 4,
  "nbformat_minor": 0,
  "metadata": {
    "language_info": {
      "codemirror_mode": {
        "name": "ipython",
        "version": 3
      },
      "file_extension": ".py",
      "mimetype": "text/x-python",
      "name": "python",
      "nbconvert_exporter": "python",
      "pygments_lexer": "ipython3",
      "version": "3.7.11"
    },
    "orig_nbformat": 2,
    "kernelspec": {
      "name": "python3",
      "display_name": "Python 3",
      "language": "python"
    },
    "colab": {
      "name": "sp14.Keras_Submit.ipynb",
      "provenance": [],
      "collapsed_sections": []
    }
  },
  "cells": [
    {
      "cell_type": "markdown",
      "metadata": {
        "id": "16WWu89VYKiM"
      },
      "source": [
        "# Keras\n",
        "### 提出用 バージョン"
      ]
    },
    {
      "cell_type": "code",
      "metadata": {
        "id": "atd29qaDYKiQ"
      },
      "source": [
        "import numpy as np\n",
        "import pandas as pd\n",
        "import matplotlib.pyplot as plt\n",
        "import tensorflow as tf\n",
        "import seaborn as sns\n",
        "\n",
        "from sklearn.model_selection import train_test_split\n",
        "from sklearn.preprocessing import OneHotEncoder\n",
        "from tensorflow import keras\n",
        "from tensorflow.keras import layers"
      ],
      "execution_count": 168,
      "outputs": []
    },
    {
      "cell_type": "markdown",
      "metadata": {
        "id": "oKwHLg7oYKiR"
      },
      "source": [
        "## 【問題1】公式チュートリアルモデルを分担して実行\n",
        "\n",
        "TensorFLowの公式チュートリアルモデルを分担して実行してください。\n",
        "\n",
        "以下の中から1人ひとつ選び実行し、その結果を簡単に発表してください。\n",
        "\n",
        "**<参考>**\n",
        "https://www.tensorflow.org/tutorials/keras/classification"
      ]
    },
    {
      "cell_type": "code",
      "metadata": {
        "id": "Hs_y1hONYKiS"
      },
      "source": [
        "fashion_mnist = keras.datasets.fashion_mnist\n",
        "\n",
        "(train_images, train_labels), (test_images, test_labels) = fashion_mnist.load_data()"
      ],
      "execution_count": 169,
      "outputs": []
    },
    {
      "cell_type": "code",
      "metadata": {
        "id": "XmezfcmAaiXQ"
      },
      "source": [
        "# MNISTのFashionデータ\n",
        "####訓練用\n",
        "# print(train_images.shape)  #(60000, 28, 28) 28×28の画像が60,000枚ある\n",
        "# print(train_labels.shape)  #(60000) 訓練データの画像のラベル(クラス)が10種類ある\n",
        "\n",
        "####テスト用\n",
        "# print(test_images.shape)  #(10000, 28, 28)\n",
        "# print(test_labels.shape)  #(10000)\n",
        "\n",
        "# ラベル\tクラス\n",
        "#    0\t    Tシャツ/トップス\n",
        "#    1\t    ズボン\n",
        "#    2\t    路肩に寄せて下さい\n",
        "#    3\t    ドレス\n",
        "#    4\t    コート\n",
        "#    5\t    サンダル\n",
        "#    6\t    シャツ\n",
        "#    7\t    スニーカー\n",
        "#    8\t    バッグ\n",
        "#    9\t    アンクルブーツ\n",
        "\n",
        "class_names = ['T-shirt/top', 'Trouser', 'Pullover', 'Dress', 'Coat','Sandal', 'Shirt', 'Sneaker', 'Bag', 'Ankle boot']\n",
        "# print(train_images)\n",
        "# print(train_labels)"
      ],
      "execution_count": 170,
      "outputs": []
    },
    {
      "cell_type": "code",
      "metadata": {
        "colab": {
          "base_uri": "https://localhost:8080/",
          "height": 320
        },
        "id": "ohfLUC8Mcujb",
        "outputId": "02156e19-d01f-413a-f3c5-10028b5e38f2"
      },
      "source": [
        "# データの前処理\n",
        "\n",
        "plt.figure(figsize=(15, 5))\n",
        "plt.subplot(1, 2, 1)\n",
        "plt.imshow(train_images[0])\n",
        "plt.colorbar()\n",
        "plt.grid(False)\n",
        "\n",
        "plt.subplot(1, 2, 2)\n",
        "plt.imshow(train_images[1])\n",
        "plt.colorbar()\n",
        "plt.grid(False)\n",
        "plt.show()"
      ],
      "execution_count": 171,
      "outputs": [
        {
          "output_type": "display_data",
          "data": {
            "image/png": "[encoded data removed]",
            "text/plain": [
              "<Figure size 1080x360 with 4 Axes>"
            ]
          },
          "metadata": {
            "needs_background": "light"
          }
        }
      ]
    },
    {
      "cell_type": "code",
      "metadata": {
        "id": "aBbOJsEheBzr"
      },
      "source": [
        "train_images = train_images / 255.0\n",
        "test_images = test_images / 255.0\n",
        "# print(train_images)\n",
        "# print(train_labels)\n"
      ],
      "execution_count": 172,
      "outputs": []
    },
    {
      "cell_type": "code",
      "metadata": {
        "colab": {
          "base_uri": "https://localhost:8080/",
          "height": 589
        },
        "id": "ksG5ENUofR6G",
        "outputId": "5b64533c-f2fd-4f27-9b60-876446d2b1a8"
      },
      "source": [
        "# 繰り返し処理で一括表示\n",
        "plt.figure(figsize=(10,10))\n",
        "for i in range(25):\n",
        "    plt.subplot(5,5,i+1)\n",
        "    plt.xticks([])\n",
        "    plt.yticks([])\n",
        "    plt.grid(False)\n",
        "    plt.imshow(train_images[i], cmap=plt.cm.binary)\n",
        "    plt.xlabel(class_names[train_labels[i]])\n",
        "plt.show()"
      ],
      "execution_count": 173,
      "outputs": [
        {
          "output_type": "display_data",
          "data": {
            "image/png": "[encoded data removed]",
            "text/plain": [
              "<Figure size 720x720 with 25 Axes>"
            ]
          },
          "metadata": {}
        }
      ]
    },
    {
      "cell_type": "code",
      "metadata": {
        "id": "w3pUUDnkghk_"
      },
      "source": [
        "model = keras.Sequential([\n",
        "    keras.layers.Flatten(input_shape=(28, 28)),#一次元配列に変換\n",
        "    keras.layers.Dense(128, activation='relu'),#全結合層ニューロン:128個\n",
        "    keras.layers.Dense(10, activation='softmax')#全結合層ニューロン:10個 出力\n",
        "])"
      ],
      "execution_count": 174,
      "outputs": []
    },
    {
      "cell_type": "markdown",
      "metadata": {
        "id": "wpA2JdbgirSZ"
      },
      "source": [
        "**モデルのコンパイル**\n",
        "\n",
        "モデルが訓練できるようになるには、いくつかの設定を追加する必要があります。\n",
        "\n",
        "それらの設定は、モデルのコンパイル(compile）時に追加されます。\n",
        "\n",
        "**損失関数（loss function）** \n",
        "\n",
        "—訓練中のモデルが不正確であるほど大きな値となる関数です。\n",
        "\n",
        "この関数の値を最小化することにより、訓練中のモデルを正しい方向に向かわせようというわけです。\n",
        "\n",
        "**オプティマイザ（optimizer）**\n",
        "\n",
        "—モデルが見ているデータと、損失関数の値から、\n",
        "\n",
        "どのようにモデルを更新するかを決定します。\n",
        "\n",
        "**メトリクス（metrics）**\n",
        "\n",
        "—訓練とテストのステップを監視するのに使用します。\n",
        "\n",
        "下記の例ではaccuracy （正解率）、つまり、画像が正しく分類された比率を使用しています。"
      ]
    },
    {
      "cell_type": "code",
      "metadata": {
        "id": "NcdiFjOWitgx"
      },
      "source": [
        "# accuracy （正解率）\n",
        "model.compile(optimizer='adam', \n",
        "              loss='sparse_categorical_crossentropy',\n",
        "              metrics=['accuracy'])"
      ],
      "execution_count": 175,
      "outputs": []
    },
    {
      "cell_type": "markdown",
      "metadata": {
        "id": "QA8DW1PvjnH6"
      },
      "source": [
        "## モデルの訓練\n",
        "\n",
        "ニューラルネットワークの訓練には次のようなステップが必要です。\n",
        "\n",
        "モデルに訓練用データを投入します—この例では train_images と train_labels の２つの配列です。\n",
        "\n",
        "\n",
        "モデルは、画像とラベルの対応関係を学習します。\n",
        "モデルにテスト用データセットの予測（分類）を行わせます—この例では test_images 配列です。\n",
        "\n",
        "\n",
        "その後、予測結果と test_labels 配列を照合します。\n",
        "\n",
        "訓練を開始するには、model.fit メソッドを呼び出します。モデルを訓練用データに \"fit\"（適合）させるという意味です。\n",
        "\n",
        "\n"
      ]
    },
    {
      "cell_type": "code",
      "metadata": {
        "colab": {
          "base_uri": "https://localhost:8080/"
        },
        "id": "F5WW5kfMjXmW",
        "outputId": "918e22d3-bfbf-4c2e-d50f-849c05a3e5a7"
      },
      "source": [
        "model.fit(train_images, train_labels, epochs=10)"
      ],
      "execution_count": 176,
      "outputs": [
        {
          "output_type": "stream",
          "name": "stdout",
          "text": [
            "Epoch 1/10\n",
            "1875/1875 [==============================] - 6s 3ms/step - loss: 0.4963 - accuracy: 0.8259\n",
            "Epoch 2/10\n",
            "1875/1875 [==============================] - 5s 3ms/step - loss: 0.3720 - accuracy: 0.8663\n",
            "Epoch 3/10\n",
            "1875/1875 [==============================] - 4s 2ms/step - loss: 0.3346 - accuracy: 0.8785\n",
            "Epoch 4/10\n",
            "1875/1875 [==============================] - 5s 3ms/step - loss: 0.3119 - accuracy: 0.8861\n",
            "Epoch 5/10\n",
            "1875/1875 [==============================] - 4s 2ms/step - loss: 0.2950 - accuracy: 0.8926\n",
            "Epoch 6/10\n",
            "1875/1875 [==============================] - 5s 3ms/step - loss: 0.2800 - accuracy: 0.8963\n",
            "Epoch 7/10\n",
            "1875/1875 [==============================] - 5s 2ms/step - loss: 0.2680 - accuracy: 0.9007\n",
            "Epoch 8/10\n",
            "1875/1875 [==============================] - 5s 3ms/step - loss: 0.2583 - accuracy: 0.9032\n",
            "Epoch 9/10\n",
            "1875/1875 [==============================] - 5s 3ms/step - loss: 0.2483 - accuracy: 0.9073\n",
            "Epoch 10/10\n",
            "1875/1875 [==============================] - 5s 3ms/step - loss: 0.2393 - accuracy: 0.9104\n"
          ]
        },
        {
          "output_type": "execute_result",
          "data": {
            "text/plain": [
              "<keras.callbacks.History at 0x7f44d9f2c610>"
            ]
          },
          "metadata": {},
          "execution_count": 176
        }
      ]
    },
    {
      "cell_type": "markdown",
      "metadata": {
        "id": "-qwD-TEkkDnC"
      },
      "source": [
        "正解率の評価\n",
        "\n",
        "\n",
        "次に、テスト用データセットに対するモデルの性能を比較します。"
      ]
    },
    {
      "cell_type": "code",
      "metadata": {
        "colab": {
          "base_uri": "https://localhost:8080/"
        },
        "id": "4U2lQL00kG8b",
        "outputId": "00c38486-5c4c-43bb-8b6d-b573c6bb2756"
      },
      "source": [
        "test_loss, test_acc = model.evaluate(test_images,  test_labels, verbose=2)\n",
        "\n",
        "print('\\nTest accuracy:', test_acc)\n",
        "\n",
        "# Train accuracy: 0.9237\n",
        "# Test accuracy: 0.8902000188827515\n",
        "# 若干過学習だがほぼ同じ"
      ],
      "execution_count": 177,
      "outputs": [
        {
          "output_type": "stream",
          "name": "stdout",
          "text": [
            "313/313 - 0s - loss: 0.3430 - accuracy: 0.8821\n",
            "\n",
            "Test accuracy: 0.882099986076355\n"
          ]
        }
      ]
    },
    {
      "cell_type": "code",
      "metadata": {
        "colab": {
          "base_uri": "https://localhost:8080/"
        },
        "id": "EWXbKvdQkyeP",
        "outputId": "51774bfb-d23d-4448-f588-545f589b41cc"
      },
      "source": [
        "predictions = model.predict(test_images)\n",
        "\n",
        "# 1つ目のデータの推定結果\n",
        "print(f'予測結果 : \\n{predictions[0]}')\n",
        "print(f'一番可能性の高いラベル : \\n{np.argmax(predictions[0])}')\n",
        "print(f'答え : \\n{test_labels[0]}')"
      ],
      "execution_count": 178,
      "outputs": [
        {
          "output_type": "stream",
          "name": "stdout",
          "text": [
            "予測結果 : \n",
            "[5.3221011e-06 1.6004934e-08 3.2590566e-09 2.3887650e-09 4.1990072e-07\n",
            " 1.3778183e-04 7.3025030e-06 1.6341368e-02 3.2244839e-07 9.8350739e-01]\n",
            "一番可能性の高いラベル : \n",
            "9\n",
            "答え : \n",
            "9\n"
          ]
        }
      ]
    },
    {
      "cell_type": "code",
      "metadata": {
        "colab": {
          "base_uri": "https://localhost:8080/",
          "height": 203
        },
        "id": "qDBY8mztmgF5",
        "outputId": "784fe420-5096-4438-c014-030d3c06a993"
      },
      "source": [
        "# 10チャンネルすべてをグラフ化してみる。\n",
        "def plot_image(i, predictions_array, true_label, img):\n",
        "    predictions_array, true_label, img = predictions_array[i], true_label[i], img[i]\n",
        "    plt.grid(False)\n",
        "    plt.xticks([])\n",
        "    plt.yticks([])\n",
        "\n",
        "    plt.imshow(img, cmap=plt.cm.binary)\n",
        "\n",
        "    predicted_label = np.argmax(predictions_array)\n",
        "    if predicted_label == true_label:\n",
        "        color = 'blue'\n",
        "    else:\n",
        "        color = 'red'\n",
        "\n",
        "    plt.xlabel(\"{} {:2.0f}% ({})\".format(class_names[predicted_label],\n",
        "                                    100*np.max(predictions_array),\n",
        "                                    class_names[true_label]),\n",
        "                                    color=color)\n",
        "\n",
        "def plot_value_array(i, predictions_array, true_label):\n",
        "    predictions_array, true_label = predictions_array[i], true_label[i]\n",
        "    plt.grid(False)\n",
        "    plt.xticks([])\n",
        "    plt.yticks([])\n",
        "    thisplot = plt.bar(range(10), predictions_array, color=\"#777777\")\n",
        "    plt.ylim([0, 1]) \n",
        "    predicted_label = np.argmax(predictions_array)\n",
        "\n",
        "    thisplot[predicted_label].set_color('red')\n",
        "    thisplot[true_label].set_color('blue')\n",
        "\n",
        "# 0番目の画像と、予測、予測配列可視化。\n",
        "i = 0\n",
        "plt.figure(figsize=(6,3))\n",
        "plt.subplot(1,2,1)\n",
        "plot_image(i, predictions, test_labels, test_images)\n",
        "plt.subplot(1,2,2)\n",
        "plot_value_array(i, predictions,  test_labels)\n",
        "plt.show()\n",
        "\n",
        "# \n",
        "# 青字が正解ラベル（9）、赤字が予測ラベル（1）\n",
        "# "
      ],
      "execution_count": 179,
      "outputs": [
        {
          "output_type": "display_data",
          "data": {
            "image/png": "[encoded data removed]",
            "text/plain": [
              "<Figure size 432x216 with 2 Axes>"
            ]
          },
          "metadata": {}
        }
      ]
    },
    {
      "cell_type": "code",
      "metadata": {
        "colab": {
          "base_uri": "https://localhost:8080/",
          "height": 203
        },
        "id": "yr38c0YPmjPJ",
        "outputId": "66492e0b-83bc-44c2-f215-591356509ad8"
      },
      "source": [
        "i = 12\n",
        "plt.figure(figsize=(6,3))\n",
        "plt.subplot(1,2,1)\n",
        "plot_image(i, predictions, test_labels, test_images)\n",
        "plt.subplot(1,2,2)\n",
        "plot_value_array(i, predictions,  test_labels)\n",
        "plt.show()\n",
        "\n",
        "# \n",
        "# 青字が正解ラベル（7）、赤字が予測ラベル（1）\n",
        "# "
      ],
      "execution_count": 180,
      "outputs": [
        {
          "output_type": "display_data",
          "data": {
            "image/png": "[encoded data removed]",
            "text/plain": [
              "<Figure size 432x216 with 2 Axes>"
            ]
          },
          "metadata": {}
        }
      ]
    },
    {
      "cell_type": "code",
      "metadata": {
        "colab": {
          "base_uri": "https://localhost:8080/",
          "height": 589
        },
        "id": "j5eXcmDlnS-p",
        "outputId": "7141e515-b4a4-4f26-e2f1-729d47fbb0f6"
      },
      "source": [
        "# X個のテスト画像、予測されたラベル、正解ラベル\n",
        "# 正しい予測は青で、間違った予測は赤で表示\n",
        "num_rows = 5\n",
        "num_cols = 3\n",
        "num_images = num_rows*num_cols\n",
        "plt.figure(figsize=(2*2*num_cols, 2*num_rows))\n",
        "for i in range(num_images):\n",
        "  plt.subplot(num_rows, 2*num_cols, 2*i+1)\n",
        "  plot_image(i, predictions, test_labels, test_images)\n",
        "  plt.subplot(num_rows, 2*num_cols, 2*i+2)\n",
        "  plot_value_array(i, predictions, test_labels)\n",
        "plt.show()\n",
        "\n",
        "# 予測の中のいくつかの画像を、予測値とともに表示してみましょう。\n",
        "# 画像下にパーセント（100分率）を示します。\n",
        "# 自信がある数字でも間違っていることがある"
      ],
      "execution_count": 181,
      "outputs": [
        {
          "output_type": "display_data",
          "data": {
            "image/png": "[encoded data removed]",
            "text/plain": [
              "<Figure size 864x720 with 30 Axes>"
            ]
          },
          "metadata": {}
        }
      ]
    },
    {
      "cell_type": "code",
      "metadata": {
        "colab": {
          "base_uri": "https://localhost:8080/"
        },
        "id": "jmKYYtpPnpVq",
        "outputId": "7d270ee3-809d-403e-fb94-b86908b0aee8"
      },
      "source": [
        "# 訓練済みのモデルを使って1枚の画像に対する予測\n",
        "# テスト用データセットから画像を1枚取り出す\n",
        "img = test_images[0]\n",
        "print(img.shape)#(28, 28)\n",
        "\n",
        "# tf.keras モデルは、サンプルの中のバッチか「集まり」について予測を行うように作られている\n",
        "# そのため、1枚の画像を使う場合でも、リスト化する必要がある\n",
        "\n",
        "# 画像を1枚だけのバッチのメンバーにする\n",
        "img = (np.expand_dims(img,0))\n",
        "print(img.shape)#(1, 28, 28)\n",
        "\n",
        "predictions_single = model.predict(img)\n",
        "print(predictions_single)"
      ],
      "execution_count": 182,
      "outputs": [
        {
          "output_type": "stream",
          "name": "stdout",
          "text": [
            "(28, 28)\n",
            "(1, 28, 28)\n",
            "[[5.3221011e-06 1.6004964e-08 3.2590566e-09 2.3887787e-09 4.1990111e-07\n",
            "  1.3778183e-04 7.3025030e-06 1.6341368e-02 3.2244898e-07 9.8350739e-01]]\n"
          ]
        }
      ]
    },
    {
      "cell_type": "code",
      "metadata": {
        "colab": {
          "base_uri": "https://localhost:8080/",
          "height": 300
        },
        "id": "zb96v-7doqyS",
        "outputId": "b168a420-e499-4316-ddf9-e8173d013fef"
      },
      "source": [
        "# 上記の可視化\n",
        "plot_value_array(0, predictions_single, test_labels)\n",
        "_ = plt.xticks(range(10), class_names, rotation=45)"
      ],
      "execution_count": 183,
      "outputs": [
        {
          "output_type": "display_data",
          "data": {
            "image/png": "[encoded data removed]",
            "text/plain": [
              "<Figure size 432x288 with 1 Axes>"
            ]
          },
          "metadata": {
            "needs_background": "light"
          }
        }
      ]
    },
    {
      "cell_type": "code",
      "metadata": {
        "colab": {
          "base_uri": "https://localhost:8080/"
        },
        "id": "RK-0Kx2co3Qe",
        "outputId": "7ed6392d-0c80-459a-e188-28de033d63c8"
      },
      "source": [
        "print(f'予測した結果 : {np.argmax(predictions_single[0])}')"
      ],
      "execution_count": 184,
      "outputs": [
        {
          "output_type": "stream",
          "name": "stdout",
          "text": [
            "予測した結果 : 9\n"
          ]
        }
      ]
    },
    {
      "cell_type": "markdown",
      "metadata": {
        "id": "Ns32UBdNphm0"
      },
      "source": [
        "## 結果\n",
        "\n",
        "公式のチュートリアルをもとに実行したが、かなり簡単に実行できた。\n",
        "\n",
        "エポック５で実行した場合はtestもTrainも大きな差がなく、良い推定が得られた。\n",
        "\n",
        "エポック１０に増やしたところ、Trainデータの正解率が大きく上昇したが、過学習が起きた。\n",
        "\n",
        "学習数など、ハイパーパラメーターの選定も重要と改めて実感した。"
      ]
    },
    {
      "cell_type": "markdown",
      "metadata": {
        "id": "SoGru-NKqw0R"
      },
      "source": [
        "--------------------------------------\n",
        "\n",
        "\n"
      ]
    },
    {
      "cell_type": "markdown",
      "metadata": {
        "id": "bTKQpYXgq4wr"
      },
      "source": [
        "\n",
        "「Sprint13 TensorFlow」で作成した4種類のデータセットを扱うTensorFLowのコードを異なるフレームワークに変更していきます。\n",
        "\n",
        "\n",
        "**Iris（Iris-versicolorとIris-virginicaのみの2値分類）**\n",
        "\n",
        "**Iris（3種類すべての目的変数を使用して多値分類）**\n",
        "\n",
        "**House Prices**\n",
        "\n",
        "**MNIST**\n",
        "\n",
        "#### Kerasへの書き換え\n",
        "\n",
        "KerasはTensorFLowに含まれるtf.kerasモジュールを使用してください。\n",
        "\n",
        "\n",
        "KerasにはSequentialモデルかFunctional APIかなど書き方に種類がありますが、これは指定しません。"
      ]
    },
    {
      "cell_type": "markdown",
      "metadata": {
        "id": "rHhBpw0HqySe"
      },
      "source": [
        "## 【問題3】Iris（2値分類）をKerasで学習\n",
        "\n",
        "TensorFlowによるIrisデータセットに対する2値分類をKerasに書き換えてください。\n",
        "\n",
        "<参照>https://www.tensorflow.org/tutorials/keras/text_classification"
      ]
    },
    {
      "cell_type": "code",
      "metadata": {
        "colab": {
          "base_uri": "https://localhost:8080/",
          "height": 223
        },
        "id": "g4kVEfBkqhat",
        "outputId": "a85bbd66-fa88-43e6-b5bc-846b5cf494ee"
      },
      "source": [
        "from sklearn.datasets import load_iris\n",
        "\n",
        "data = load_iris()\n",
        "\n",
        "x_df = pd.DataFrame(data.data)\n",
        "y_df = pd.DataFrame(data.target)\n",
        "\n",
        "d = pd.concat([x_df, y_df], axis=1)\n",
        "d.columns=['sepal_length', 'sepal_width', 'petal_length','petal_width','Species']\n",
        "\n",
        "# 二値分類へ\n",
        "d = d[(d[\"Species\"] == 1)|(d[\"Species\"] == 2)].reset_index(drop=True)\n",
        "display(d.head())\n",
        "display(d.shape)\n",
        "\n",
        "y = d[\"Species\"]\n",
        "x = d.loc[:, ['sepal_length', 'sepal_width', 'petal_length','petal_width']]\n",
        "\n",
        "x_train, x_test, y_train, y_test = train_test_split(x.to_numpy(), y.to_numpy(), test_size=0.3, random_state=42)\n",
        "_, x_val, _, y_val = train_test_split(x_train, y_train, test_size=0.3, random_state=42)"
      ],
      "execution_count": 185,
      "outputs": [
        {
          "output_type": "display_data",
          "data": {
            "text/html": [
              "<div>\n",
              "<style scoped>\n",
              "    .dataframe tbody tr th:only-of-type {\n",
              "        vertical-align: middle;\n",
              "    }\n",
              "\n",
              "    .dataframe tbody tr th {\n",
              "        vertical-align: top;\n",
              "    }\n",
              "\n",
              "    .dataframe thead th {\n",
              "        text-align: right;\n",
              "    }\n",
              "</style>\n",
              "<table border=\"1\" class=\"dataframe\">\n",
              "  <thead>\n",
              "    <tr style=\"text-align: right;\">\n",
              "      <th></th>\n",
              "      <th>sepal_length</th>\n",
              "      <th>sepal_width</th>\n",
              "      <th>petal_length</th>\n",
              "      <th>petal_width</th>\n",
              "      <th>Species</th>\n",
              "    </tr>\n",
              "  </thead>\n",
              "  <tbody>\n",
              "    <tr>\n",
              "      <th>0</th>\n",
              "      <td>7.0</td>\n",
              "      <td>3.2</td>\n",
              "      <td>4.7</td>\n",
              "      <td>1.4</td>\n",
              "      <td>1</td>\n",
              "    </tr>\n",
              "    <tr>\n",
              "      <th>1</th>\n",
              "      <td>6.4</td>\n",
              "      <td>3.2</td>\n",
              "      <td>4.5</td>\n",
              "      <td>1.5</td>\n",
              "      <td>1</td>\n",
              "    </tr>\n",
              "    <tr>\n",
              "      <th>2</th>\n",
              "      <td>6.9</td>\n",
              "      <td>3.1</td>\n",
              "      <td>4.9</td>\n",
              "      <td>1.5</td>\n",
              "      <td>1</td>\n",
              "    </tr>\n",
              "    <tr>\n",
              "      <th>3</th>\n",
              "      <td>5.5</td>\n",
              "      <td>2.3</td>\n",
              "      <td>4.0</td>\n",
              "      <td>1.3</td>\n",
              "      <td>1</td>\n",
              "    </tr>\n",
              "    <tr>\n",
              "      <th>4</th>\n",
              "      <td>6.5</td>\n",
              "      <td>2.8</td>\n",
              "      <td>4.6</td>\n",
              "      <td>1.5</td>\n",
              "      <td>1</td>\n",
              "    </tr>\n",
              "  </tbody>\n",
              "</table>\n",
              "</div>"
            ],
            "text/plain": [
              "   sepal_length  sepal_width  petal_length  petal_width  Species\n",
              "0           7.0          3.2           4.7          1.4        1\n",
              "1           6.4          3.2           4.5          1.5        1\n",
              "2           6.9          3.1           4.9          1.5        1\n",
              "3           5.5          2.3           4.0          1.3        1\n",
              "4           6.5          2.8           4.6          1.5        1"
            ]
          },
          "metadata": {}
        },
        {
          "output_type": "display_data",
          "data": {
            "text/plain": [
              "(100, 5)"
            ]
          },
          "metadata": {}
        }
      ]
    },
    {
      "cell_type": "code",
      "metadata": {
        "colab": {
          "base_uri": "https://localhost:8080/"
        },
        "id": "b559CZp5vu1Q",
        "outputId": "62f10dd6-8a35-4c22-e541-e1b0213c560c"
      },
      "source": [
        "model = keras.Sequential()\n",
        "model.add(keras.layers.Embedding(100, 4))#100行,4列を想定（正しい入力について要チェック）\n",
        "model.add(keras.layers.GlobalAveragePooling1D())\n",
        "model.add(keras.layers.Dense(16, activation='relu'))\n",
        "model.add(keras.layers.Dense(1, activation='sigmoid'))\n",
        "model.summary()"
      ],
      "execution_count": 186,
      "outputs": [
        {
          "output_type": "stream",
          "name": "stdout",
          "text": [
            "Model: \"sequential_13\"\n",
            "_________________________________________________________________\n",
            "Layer (type)                 Output Shape              Param #   \n",
            "=================================================================\n",
            "embedding_8 (Embedding)      (None, None, 4)           400       \n",
            "_________________________________________________________________\n",
            "global_average_pooling1d_9 ( (None, 4)                 0         \n",
            "_________________________________________________________________\n",
            "dense_26 (Dense)             (None, 16)                80        \n",
            "_________________________________________________________________\n",
            "dense_27 (Dense)             (None, 1)                 17        \n",
            "=================================================================\n",
            "Total params: 497\n",
            "Trainable params: 497\n",
            "Non-trainable params: 0\n",
            "_________________________________________________________________\n"
          ]
        }
      ]
    },
    {
      "cell_type": "code",
      "metadata": {
        "colab": {
          "base_uri": "https://localhost:8080/"
        },
        "id": "P7df5x4MBnBc",
        "outputId": "9e10bfb6-313c-425b-cecd-e83839390799"
      },
      "source": [
        "model.compile(optimizer='adam',\n",
        "              loss='binary_crossentropy',\n",
        "              metrics=['accuracy'])\n",
        "\n",
        "history = model.fit(x_train,\n",
        "                    y_train,\n",
        "                    epochs=50,\n",
        "                    batch_size=30,\n",
        "                    validation_data=(x_val, y_val),\n",
        "                    verbose=1)"
      ],
      "execution_count": 187,
      "outputs": [
        {
          "output_type": "stream",
          "name": "stdout",
          "text": [
            "Epoch 1/50\n",
            "3/3 [==============================] - 1s 105ms/step - loss: 0.6840 - accuracy: 0.4714 - val_loss: 0.6753 - val_accuracy: 0.5714\n",
            "Epoch 2/50\n",
            "3/3 [==============================] - 0s 32ms/step - loss: 0.6693 - accuracy: 0.4714 - val_loss: 0.6625 - val_accuracy: 0.5714\n",
            "Epoch 3/50\n",
            "3/3 [==============================] - 0s 17ms/step - loss: 0.6553 - accuracy: 0.4714 - val_loss: 0.6494 - val_accuracy: 0.5714\n",
            "Epoch 4/50\n",
            "3/3 [==============================] - 0s 18ms/step - loss: 0.6408 - accuracy: 0.4714 - val_loss: 0.6362 - val_accuracy: 0.5714\n",
            "Epoch 5/50\n",
            "3/3 [==============================] - 0s 15ms/step - loss: 0.6256 - accuracy: 0.4714 - val_loss: 0.6224 - val_accuracy: 0.5714\n",
            "Epoch 6/50\n",
            "3/3 [==============================] - 0s 14ms/step - loss: 0.6099 - accuracy: 0.4714 - val_loss: 0.6076 - val_accuracy: 0.5714\n",
            "Epoch 7/50\n",
            "3/3 [==============================] - 0s 14ms/step - loss: 0.5926 - accuracy: 0.4714 - val_loss: 0.5923 - val_accuracy: 0.5714\n",
            "Epoch 8/50\n",
            "3/3 [==============================] - 0s 13ms/step - loss: 0.5751 - accuracy: 0.4714 - val_loss: 0.5762 - val_accuracy: 0.5714\n",
            "Epoch 9/50\n",
            "3/3 [==============================] - 0s 18ms/step - loss: 0.5570 - accuracy: 0.4714 - val_loss: 0.5594 - val_accuracy: 0.5714\n",
            "Epoch 10/50\n",
            "3/3 [==============================] - 0s 19ms/step - loss: 0.5381 - accuracy: 0.4714 - val_loss: 0.5420 - val_accuracy: 0.5714\n",
            "Epoch 11/50\n",
            "3/3 [==============================] - 0s 16ms/step - loss: 0.5186 - accuracy: 0.4714 - val_loss: 0.5241 - val_accuracy: 0.5714\n",
            "Epoch 12/50\n",
            "3/3 [==============================] - 0s 13ms/step - loss: 0.4982 - accuracy: 0.4714 - val_loss: 0.5058 - val_accuracy: 0.5714\n",
            "Epoch 13/50\n",
            "3/3 [==============================] - 0s 13ms/step - loss: 0.4773 - accuracy: 0.4714 - val_loss: 0.4868 - val_accuracy: 0.5714\n",
            "Epoch 14/50\n",
            "3/3 [==============================] - 0s 19ms/step - loss: 0.4559 - accuracy: 0.4714 - val_loss: 0.4673 - val_accuracy: 0.5714\n",
            "Epoch 15/50\n",
            "3/3 [==============================] - 0s 18ms/step - loss: 0.4338 - accuracy: 0.4714 - val_loss: 0.4471 - val_accuracy: 0.5714\n",
            "Epoch 16/50\n",
            "3/3 [==============================] - 0s 16ms/step - loss: 0.4112 - accuracy: 0.4714 - val_loss: 0.4264 - val_accuracy: 0.5714\n",
            "Epoch 17/50\n",
            "3/3 [==============================] - 0s 14ms/step - loss: 0.3874 - accuracy: 0.4714 - val_loss: 0.4051 - val_accuracy: 0.5714\n",
            "Epoch 18/50\n",
            "3/3 [==============================] - 0s 14ms/step - loss: 0.3635 - accuracy: 0.4714 - val_loss: 0.3832 - val_accuracy: 0.5714\n",
            "Epoch 19/50\n",
            "3/3 [==============================] - 0s 16ms/step - loss: 0.3381 - accuracy: 0.4714 - val_loss: 0.3608 - val_accuracy: 0.5714\n",
            "Epoch 20/50\n",
            "3/3 [==============================] - 0s 15ms/step - loss: 0.3127 - accuracy: 0.4714 - val_loss: 0.3373 - val_accuracy: 0.5714\n",
            "Epoch 21/50\n",
            "3/3 [==============================] - 0s 15ms/step - loss: 0.2865 - accuracy: 0.4714 - val_loss: 0.3130 - val_accuracy: 0.5714\n",
            "Epoch 22/50\n",
            "3/3 [==============================] - 0s 20ms/step - loss: 0.2591 - accuracy: 0.4714 - val_loss: 0.2882 - val_accuracy: 0.5714\n",
            "Epoch 23/50\n",
            "3/3 [==============================] - 0s 12ms/step - loss: 0.2297 - accuracy: 0.4714 - val_loss: 0.2626 - val_accuracy: 0.5714\n",
            "Epoch 24/50\n",
            "3/3 [==============================] - 0s 14ms/step - loss: 0.2004 - accuracy: 0.4714 - val_loss: 0.2359 - val_accuracy: 0.5714\n",
            "Epoch 25/50\n",
            "3/3 [==============================] - 0s 17ms/step - loss: 0.1701 - accuracy: 0.4714 - val_loss: 0.2085 - val_accuracy: 0.5714\n",
            "Epoch 26/50\n",
            "3/3 [==============================] - 0s 13ms/step - loss: 0.1394 - accuracy: 0.4714 - val_loss: 0.1803 - val_accuracy: 0.5714\n",
            "Epoch 27/50\n",
            "3/3 [==============================] - 0s 13ms/step - loss: 0.1068 - accuracy: 0.4714 - val_loss: 0.1517 - val_accuracy: 0.5714\n",
            "Epoch 28/50\n",
            "3/3 [==============================] - 0s 15ms/step - loss: 0.0735 - accuracy: 0.4714 - val_loss: 0.1223 - val_accuracy: 0.5714\n",
            "Epoch 29/50\n",
            "3/3 [==============================] - 0s 27ms/step - loss: 0.0392 - accuracy: 0.4714 - val_loss: 0.0920 - val_accuracy: 0.5714\n",
            "Epoch 30/50\n",
            "3/3 [==============================] - 0s 12ms/step - loss: 0.0039 - accuracy: 0.4714 - val_loss: 0.0607 - val_accuracy: 0.5714\n",
            "Epoch 31/50\n",
            "3/3 [==============================] - 0s 15ms/step - loss: -0.0317 - accuracy: 0.4714 - val_loss: 0.0284 - val_accuracy: 0.5714\n",
            "Epoch 32/50\n",
            "3/3 [==============================] - 0s 18ms/step - loss: -0.0693 - accuracy: 0.4714 - val_loss: -0.0044 - val_accuracy: 0.5714\n",
            "Epoch 33/50\n",
            "3/3 [==============================] - 0s 14ms/step - loss: -0.1066 - accuracy: 0.4714 - val_loss: -0.0380 - val_accuracy: 0.5714\n",
            "Epoch 34/50\n",
            "3/3 [==============================] - 0s 16ms/step - loss: -0.1460 - accuracy: 0.4714 - val_loss: -0.0723 - val_accuracy: 0.5714\n",
            "Epoch 35/50\n",
            "3/3 [==============================] - 0s 13ms/step - loss: -0.1856 - accuracy: 0.4714 - val_loss: -0.1074 - val_accuracy: 0.5714\n",
            "Epoch 36/50\n",
            "3/3 [==============================] - 0s 15ms/step - loss: -0.2263 - accuracy: 0.4714 - val_loss: -0.1432 - val_accuracy: 0.5714\n",
            "Epoch 37/50\n",
            "3/3 [==============================] - 0s 14ms/step - loss: -0.2676 - accuracy: 0.4714 - val_loss: -0.1795 - val_accuracy: 0.5714\n",
            "Epoch 38/50\n",
            "3/3 [==============================] - 0s 15ms/step - loss: -0.3101 - accuracy: 0.4714 - val_loss: -0.2160 - val_accuracy: 0.5714\n",
            "Epoch 39/50\n",
            "3/3 [==============================] - 0s 14ms/step - loss: -0.3521 - accuracy: 0.4714 - val_loss: -0.2530 - val_accuracy: 0.5714\n",
            "Epoch 40/50\n",
            "3/3 [==============================] - 0s 14ms/step - loss: -0.3959 - accuracy: 0.4714 - val_loss: -0.2905 - val_accuracy: 0.5714\n",
            "Epoch 41/50\n",
            "3/3 [==============================] - 0s 16ms/step - loss: -0.4392 - accuracy: 0.4714 - val_loss: -0.3290 - val_accuracy: 0.5714\n",
            "Epoch 42/50\n",
            "3/3 [==============================] - 0s 14ms/step - loss: -0.4842 - accuracy: 0.4714 - val_loss: -0.3680 - val_accuracy: 0.5714\n",
            "Epoch 43/50\n",
            "3/3 [==============================] - 0s 14ms/step - loss: -0.5288 - accuracy: 0.4714 - val_loss: -0.4075 - val_accuracy: 0.5714\n",
            "Epoch 44/50\n",
            "3/3 [==============================] - 0s 15ms/step - loss: -0.5761 - accuracy: 0.4714 - val_loss: -0.4468 - val_accuracy: 0.5714\n",
            "Epoch 45/50\n",
            "3/3 [==============================] - 0s 13ms/step - loss: -0.6229 - accuracy: 0.4714 - val_loss: -0.4864 - val_accuracy: 0.5714\n",
            "Epoch 46/50\n",
            "3/3 [==============================] - 0s 14ms/step - loss: -0.6687 - accuracy: 0.4714 - val_loss: -0.5266 - val_accuracy: 0.5714\n",
            "Epoch 47/50\n",
            "3/3 [==============================] - 0s 19ms/step - loss: -0.7155 - accuracy: 0.4714 - val_loss: -0.5668 - val_accuracy: 0.5714\n",
            "Epoch 48/50\n",
            "3/3 [==============================] - 0s 19ms/step - loss: -0.7630 - accuracy: 0.4714 - val_loss: -0.6067 - val_accuracy: 0.5714\n",
            "Epoch 49/50\n",
            "3/3 [==============================] - 0s 12ms/step - loss: -0.8104 - accuracy: 0.4714 - val_loss: -0.6471 - val_accuracy: 0.5714\n",
            "Epoch 50/50\n",
            "3/3 [==============================] - 0s 13ms/step - loss: -0.8593 - accuracy: 0.4714 - val_loss: -0.6883 - val_accuracy: 0.5714\n"
          ]
        }
      ]
    },
    {
      "cell_type": "code",
      "metadata": {
        "colab": {
          "base_uri": "https://localhost:8080/"
        },
        "id": "eRuDCptHCsji",
        "outputId": "f7e3e6a3-e8c8-4078-a32d-10257a4acd66"
      },
      "source": [
        "# モデルの評価\n",
        "results = model.evaluate(x_test, y_test, verbose=2)\n",
        "print(results)\n",
        "\n",
        "# -----１度目の結果-----\n",
        "# train正解率:0.4714\n",
        "# val正解率 : 0.5714\n",
        "# test正解率 : 0.5667\n",
        "# loss: 0.0804\n",
        "# val_loss: 0.1340\n",
        "\n",
        "# -----２度目の結果-----\n",
        "# epochs=30→40へ\n",
        "# バッチサイズ512→20へ\n",
        "# - loss: -3.6721 - accuracy: 0.4714 - val_loss: -3.0221 - val_accuracy: 0.5714\n",
        "# testデータ　1/1 - 0s - loss: -3.0537e+00 - accuracy: 0.5667"
      ],
      "execution_count": 188,
      "outputs": [
        {
          "output_type": "stream",
          "name": "stdout",
          "text": [
            "1/1 - 0s - loss: -7.1485e-01 - accuracy: 0.5667\n",
            "[-0.7148465514183044, 0.5666666626930237]\n"
          ]
        }
      ]
    },
    {
      "cell_type": "code",
      "metadata": {
        "colab": {
          "base_uri": "https://localhost:8080/",
          "height": 295
        },
        "id": "XYjRkzxmDm3B",
        "outputId": "174b4c2b-a10e-40d5-9e0c-0524d83e69f1"
      },
      "source": [
        "# 正解率と損失の時系列グラフを描く\n",
        "# model.fit() は、訓練中に発生したすべてのことを記録した辞書を含むHistory オブジェクトを返します。\n",
        "history_dict = history.history\n",
        "history_dict.keys()\n",
        "\n",
        "# グラフ用に変数化（辞書から呼びだす）\n",
        "acc = history_dict['accuracy']\n",
        "val_acc = history_dict['val_accuracy']\n",
        "loss = history_dict['loss']\n",
        "val_loss = history_dict['val_loss']\n",
        "\n",
        "# x軸用\n",
        "epochs = range(1, len(acc) + 1)\n",
        "\n",
        "# \"bo\" is for \"blue dot\"\n",
        "plt.plot(epochs, loss, 'bo', label='Training loss')\n",
        "# b is for \"solid blue line\"\n",
        "plt.plot(epochs, val_loss, 'b', label='Validation loss')\n",
        "plt.title('Training and validation loss')\n",
        "plt.xlabel('Epochs')\n",
        "plt.ylabel('Loss')\n",
        "plt.legend()\n",
        "\n",
        "plt.show()"
      ],
      "execution_count": 189,
      "outputs": [
        {
          "output_type": "display_data",
          "data": {
            "image/png": "[encoded data removed]",
            "text/plain": [
              "<Figure size 432x288 with 1 Axes>"
            ]
          },
          "metadata": {
            "needs_background": "light"
          }
        }
      ]
    },
    {
      "cell_type": "code",
      "metadata": {
        "colab": {
          "base_uri": "https://localhost:8080/",
          "height": 295
        },
        "id": "9KPTchMYETO6",
        "outputId": "29618573-36a0-4398-de2b-ca08b9344ce2"
      },
      "source": [
        "plt.clf()   # 図のクリア\n",
        "\n",
        "plt.plot(epochs, acc, 'bo', label='Training acc')\n",
        "plt.plot(epochs, val_acc, 'b', label='Validation acc')\n",
        "plt.title('Training and validation accuracy')\n",
        "plt.xlabel('Epochs')\n",
        "plt.ylabel('Accuracy')\n",
        "plt.legend()\n",
        "\n",
        "plt.show()"
      ],
      "execution_count": 190,
      "outputs": [
        {
          "output_type": "display_data",
          "data": {
            "image/png": "[encoded data removed]",
            "text/plain": [
              "<Figure size 432x288 with 1 Axes>"
            ]
          },
          "metadata": {
            "needs_background": "light"
          }
        }
      ]
    },
    {
      "cell_type": "markdown",
      "metadata": {
        "id": "9kH2jAF5FtxQ"
      },
      "source": [
        "##【問題4】Iris（多値分類）をKerasで学習"
      ]
    },
    {
      "cell_type": "code",
      "metadata": {
        "id": "ubuAyUwtHJXN"
      },
      "source": [
        "# 多値分類のデータ用意\n",
        "d_2 = pd.concat([x_df, y_df], axis=1)\n",
        "d_2.columns=['sepal_length', 'sepal_width', 'petal_length','petal_width','Species']\n",
        "\n",
        "# 二値分類へ\n",
        "# d = d[(d[\"Species\"] == 1)|(d[\"Species\"] == 2)].reset_index(drop=True)\n",
        "# display(d.shape)\n",
        "# display(d_2.shape)(150, 5)\n",
        "\n",
        "y_2 = d_2[\"Species\"]\n",
        "x_2 = d_2.loc[:, ['sepal_length', 'sepal_width', 'petal_length','petal_width']]\n",
        "\n",
        "x_train, x_test, y_train, y_test = train_test_split(x_2.to_numpy(), y_2.to_numpy(), test_size=0.3, random_state=42)\n",
        "_, x_val, _, y_val = train_test_split(x_train, y_train, test_size=0.3, random_state=42)"
      ],
      "execution_count": 191,
      "outputs": []
    },
    {
      "cell_type": "code",
      "metadata": {
        "colab": {
          "base_uri": "https://localhost:8080/",
          "height": 1000
        },
        "id": "rwQG-EBeFwkz",
        "outputId": "1dcace0b-a759-437b-8cd3-ea1c2afc6a3f"
      },
      "source": [
        "# 問題3の二値分類から多値分類へ変更\n",
        "model = keras.Sequential()\n",
        "model.add(keras.layers.Embedding(150, 4))#150行,4列を想定（正しい入力について要チェック）\n",
        "model.add(keras.layers.GlobalAveragePooling1D())\n",
        "model.add(keras.layers.Dense(16, activation='relu'))\n",
        "model.add(keras.layers.Dense(1, activation='softmax'))\n",
        "model.summary()\n",
        "\n",
        "model.compile(optimizer='adam',\n",
        "              loss='binary_crossentropy',\n",
        "              metrics=['accuracy'])\n",
        "\n",
        "history = model.fit(x_train,\n",
        "                    y_train,\n",
        "                    epochs=30,\n",
        "                    batch_size=40,\n",
        "                    validation_data=(x_val, y_val),\n",
        "                    verbose=1)\n",
        "\n",
        "results = model.evaluate(x_test, y_test, verbose=2)\n",
        "print(results)\n",
        "\n",
        "history_dict = history.history\n",
        "history_dict.keys()\n",
        "\n",
        "# グラフ用に変数化（辞書から呼びだす）\n",
        "acc = history_dict['accuracy']\n",
        "val_acc = history_dict['val_accuracy']\n",
        "loss = history_dict['loss']\n",
        "val_loss = history_dict['val_loss']\n",
        "\n",
        "# x軸用\n",
        "epochs = range(1, len(acc) + 1)\n",
        "\n",
        "# \"bo\" is for \"blue dot\"\n",
        "plt.plot(epochs, loss, 'bo', label='Training loss')\n",
        "# b is for \"solid blue line\"\n",
        "plt.plot(epochs, val_loss, 'b', label='Validation loss')\n",
        "plt.title('Training and validation loss')\n",
        "plt.xlabel('Epochs')\n",
        "plt.ylabel('Loss')\n",
        "plt.legend()\n",
        "plt.show()\n",
        "\n",
        "plt.clf()   # 図のクリア\n",
        "plt.plot(epochs, acc, 'bo', label='Training acc')\n",
        "plt.plot(epochs, val_acc, 'b', label='Validation acc')\n",
        "plt.title('Training and validation accuracy')\n",
        "plt.xlabel('Epochs')\n",
        "plt.ylabel('Accuracy')\n",
        "plt.legend()\n",
        "plt.show()"
      ],
      "execution_count": 192,
      "outputs": [
        {
          "output_type": "stream",
          "name": "stdout",
          "text": [
            "Model: \"sequential_14\"\n",
            "_________________________________________________________________\n",
            "Layer (type)                 Output Shape              Param #   \n",
            "=================================================================\n",
            "embedding_9 (Embedding)      (None, None, 4)           600       \n",
            "_________________________________________________________________\n",
            "global_average_pooling1d_10  (None, 4)                 0         \n",
            "_________________________________________________________________\n",
            "dense_28 (Dense)             (None, 16)                80        \n",
            "_________________________________________________________________\n",
            "dense_29 (Dense)             (None, 1)                 17        \n",
            "=================================================================\n",
            "Total params: 697\n",
            "Trainable params: 697\n",
            "Non-trainable params: 0\n",
            "_________________________________________________________________\n",
            "Epoch 1/30\n",
            "3/3 [==============================] - 1s 87ms/step - loss: 0.6929 - accuracy: 0.3524 - val_loss: 0.6883 - val_accuracy: 0.3438\n",
            "Epoch 2/30\n",
            "3/3 [==============================] - 0s 13ms/step - loss: 0.6862 - accuracy: 0.3524 - val_loss: 0.6827 - val_accuracy: 0.3438\n",
            "Epoch 3/30\n",
            "3/3 [==============================] - 0s 16ms/step - loss: 0.6790 - accuracy: 0.3524 - val_loss: 0.6766 - val_accuracy: 0.3438\n",
            "Epoch 4/30\n",
            "3/3 [==============================] - 0s 14ms/step - loss: 0.6710 - accuracy: 0.3524 - val_loss: 0.6694 - val_accuracy: 0.3438\n",
            "Epoch 5/30\n",
            "3/3 [==============================] - 0s 15ms/step - loss: 0.6631 - accuracy: 0.3524 - val_loss: 0.6619 - val_accuracy: 0.3438\n",
            "Epoch 6/30\n",
            "3/3 [==============================] - 0s 15ms/step - loss: 0.6530 - accuracy: 0.3524 - val_loss: 0.6537 - val_accuracy: 0.3438\n",
            "Epoch 7/30\n",
            "3/3 [==============================] - 0s 14ms/step - loss: 0.6443 - accuracy: 0.3524 - val_loss: 0.6452 - val_accuracy: 0.3438\n",
            "Epoch 8/30\n",
            "3/3 [==============================] - 0s 13ms/step - loss: 0.6332 - accuracy: 0.3524 - val_loss: 0.6363 - val_accuracy: 0.3438\n",
            "Epoch 9/30\n",
            "3/3 [==============================] - 0s 16ms/step - loss: 0.6227 - accuracy: 0.3524 - val_loss: 0.6270 - val_accuracy: 0.3438\n",
            "Epoch 10/30\n",
            "3/3 [==============================] - 0s 15ms/step - loss: 0.6116 - accuracy: 0.3524 - val_loss: 0.6171 - val_accuracy: 0.3438\n",
            "Epoch 11/30\n",
            "3/3 [==============================] - 0s 19ms/step - loss: 0.6000 - accuracy: 0.3524 - val_loss: 0.6068 - val_accuracy: 0.3438\n",
            "Epoch 12/30\n",
            "3/3 [==============================] - 0s 12ms/step - loss: 0.5882 - accuracy: 0.3524 - val_loss: 0.5962 - val_accuracy: 0.3438\n",
            "Epoch 13/30\n",
            "3/3 [==============================] - 0s 16ms/step - loss: 0.5759 - accuracy: 0.3524 - val_loss: 0.5852 - val_accuracy: 0.3438\n",
            "Epoch 14/30\n",
            "3/3 [==============================] - 0s 17ms/step - loss: 0.5632 - accuracy: 0.3524 - val_loss: 0.5740 - val_accuracy: 0.3438\n",
            "Epoch 15/30\n",
            "3/3 [==============================] - 0s 17ms/step - loss: 0.5488 - accuracy: 0.3524 - val_loss: 0.5628 - val_accuracy: 0.3438\n",
            "Epoch 16/30\n",
            "3/3 [==============================] - 0s 15ms/step - loss: 0.5355 - accuracy: 0.3524 - val_loss: 0.5509 - val_accuracy: 0.3438\n",
            "Epoch 17/30\n",
            "3/3 [==============================] - 0s 16ms/step - loss: 0.5209 - accuracy: 0.3524 - val_loss: 0.5387 - val_accuracy: 0.3438\n",
            "Epoch 18/30\n",
            "3/3 [==============================] - 0s 19ms/step - loss: 0.5070 - accuracy: 0.3524 - val_loss: 0.5259 - val_accuracy: 0.3438\n",
            "Epoch 19/30\n",
            "3/3 [==============================] - 0s 16ms/step - loss: 0.4913 - accuracy: 0.3524 - val_loss: 0.5127 - val_accuracy: 0.3438\n",
            "Epoch 20/30\n",
            "3/3 [==============================] - 0s 15ms/step - loss: 0.4744 - accuracy: 0.3524 - val_loss: 0.4992 - val_accuracy: 0.3438\n",
            "Epoch 21/30\n",
            "3/3 [==============================] - 0s 17ms/step - loss: 0.4596 - accuracy: 0.3524 - val_loss: 0.4850 - val_accuracy: 0.3438\n",
            "Epoch 22/30\n",
            "3/3 [==============================] - 0s 17ms/step - loss: 0.4420 - accuracy: 0.3524 - val_loss: 0.4706 - val_accuracy: 0.3438\n",
            "Epoch 23/30\n",
            "3/3 [==============================] - 0s 15ms/step - loss: 0.4256 - accuracy: 0.3524 - val_loss: 0.4558 - val_accuracy: 0.3438\n",
            "Epoch 24/30\n",
            "3/3 [==============================] - 0s 15ms/step - loss: 0.4077 - accuracy: 0.3524 - val_loss: 0.4408 - val_accuracy: 0.3438\n",
            "Epoch 25/30\n",
            "3/3 [==============================] - 0s 15ms/step - loss: 0.3901 - accuracy: 0.3524 - val_loss: 0.4255 - val_accuracy: 0.3438\n",
            "Epoch 26/30\n",
            "3/3 [==============================] - 0s 14ms/step - loss: 0.3714 - accuracy: 0.3524 - val_loss: 0.4099 - val_accuracy: 0.3438\n",
            "Epoch 27/30\n",
            "3/3 [==============================] - 0s 12ms/step - loss: 0.3525 - accuracy: 0.3524 - val_loss: 0.3941 - val_accuracy: 0.3438\n",
            "Epoch 28/30\n",
            "3/3 [==============================] - 0s 13ms/step - loss: 0.3336 - accuracy: 0.3524 - val_loss: 0.3778 - val_accuracy: 0.3438\n",
            "Epoch 29/30\n",
            "3/3 [==============================] - 0s 17ms/step - loss: 0.3132 - accuracy: 0.3524 - val_loss: 0.3614 - val_accuracy: 0.3438\n",
            "Epoch 30/30\n",
            "3/3 [==============================] - 0s 18ms/step - loss: 0.2938 - accuracy: 0.3524 - val_loss: 0.3445 - val_accuracy: 0.3438\n",
            "2/2 - 0s - loss: 0.4147 - accuracy: 0.2889\n",
            "[0.4146583676338196, 0.2888889014720917]\n"
          ]
        },
        {
          "output_type": "display_data",
          "data": {
            "image/png": "[encoded data removed]",
            "text/plain": [
              "<Figure size 432x288 with 1 Axes>"
            ]
          },
          "metadata": {
            "needs_background": "light"
          }
        },
        {
          "output_type": "display_data",
          "data": {
            "image/png": "[encoded data removed]",
            "text/plain": [
              "<Figure size 432x288 with 1 Axes>"
            ]
          },
          "metadata": {
            "needs_background": "light"
          }
        }
      ]
    },
    {
      "cell_type": "markdown",
      "metadata": {
        "id": "F3VR-CMRIbRo"
      },
      "source": [
        "## 【問題5】House PricesをKerasで学習"
      ]
    },
    {
      "cell_type": "code",
      "metadata": {
        "id": "gZ7bMSgcIfDn"
      },
      "source": [
        "df = pd.read_csv(\"train.csv\")\n",
        "\n",
        "y = df[\"SalePrice\"]\n",
        "X = df.loc[:, [\"GrLivArea\", \"YearBuilt\"]]\n",
        "\n",
        "df_3 = pd.concat([x, y], axis=1)\n",
        "\n",
        "# y = np.array(y)\n",
        "# X = np.array(X)\n",
        "# y = y.astype(np.int)[:, np.newaxis]\n",
        "# y = np.log(y)\n",
        "\n",
        "X_train, X_test, y_train, y_test = train_test_split(X, y, test_size=0.2, random_state=0)\n",
        "# _, X_val, _, y_val = train_test_split(X_train, y_train, test_size=0.2, random_state=0)"
      ],
      "execution_count": 256,
      "outputs": []
    },
    {
      "cell_type": "code",
      "metadata": {
        "colab": {
          "base_uri": "https://localhost:8080/"
        },
        "id": "k5PvgyXIKsJq",
        "outputId": "2821678f-81ac-46ae-e2da-c3e1530f6f66"
      },
      "source": [
        "train_stats = df_3.describe()\n",
        "train_stats = train_stats.transpose()\n",
        "\n",
        "print(train_stats.shape)\n",
        "print(X.shape)\n",
        "print(y.shape)\n",
        "# 正規化\n",
        "# def norm(x):\n",
        "#   return (x - train_stats['mean']) / train_stats['std']\n",
        "\n",
        "# normed_train_data = norm(df_3.loc[:, [\"GrLivArea\", \"YearBuilt\"]])\n",
        "# normed_test_data = norm(df[\"SalePrice\"])\n",
        "\n",
        "def build_model():\n",
        "  model = keras.Sequential([\n",
        "    layers.Dense(64, activation='relu', input_shape=[len(X_train.keys())]),\n",
        "    layers.Dense(64, activation='relu'),\n",
        "    layers.Dense(1)\n",
        "  ])\n",
        "\n",
        "  optimizer = tf.keras.optimizers.RMSprop(0.001)\n",
        "\n",
        "  model.compile(loss='mse',\n",
        "                optimizer=optimizer,\n",
        "                metrics=['mae', 'mse'])\n",
        "  return model\n",
        "\n"
      ],
      "execution_count": 257,
      "outputs": [
        {
          "output_type": "stream",
          "name": "stdout",
          "text": [
            "(5, 8)\n",
            "(1460, 2)\n",
            "(1460,)\n"
          ]
        }
      ]
    },
    {
      "cell_type": "code",
      "metadata": {
        "colab": {
          "base_uri": "https://localhost:8080/"
        },
        "id": "uVU2d2_zMB5M",
        "outputId": "92b9c9ee-7067-4967-c797-55986c4aefd7"
      },
      "source": [
        "model = build_model()\n",
        "model.summary()"
      ],
      "execution_count": 258,
      "outputs": [
        {
          "output_type": "stream",
          "name": "stdout",
          "text": [
            "Model: \"sequential_20\"\n",
            "_________________________________________________________________\n",
            "Layer (type)                 Output Shape              Param #   \n",
            "=================================================================\n",
            "dense_45 (Dense)             (None, 64)                192       \n",
            "_________________________________________________________________\n",
            "dense_46 (Dense)             (None, 64)                4160      \n",
            "_________________________________________________________________\n",
            "dense_47 (Dense)             (None, 1)                 65        \n",
            "=================================================================\n",
            "Total params: 4,417\n",
            "Trainable params: 4,417\n",
            "Non-trainable params: 0\n",
            "_________________________________________________________________\n"
          ]
        }
      ]
    },
    {
      "cell_type": "code",
      "metadata": {
        "colab": {
          "base_uri": "https://localhost:8080/"
        },
        "id": "Pm2NBPjsPIe3",
        "outputId": "d9fc7146-515f-4c78-c2f2-4eabe41ec1e6"
      },
      "source": [
        "# example_batch = x_train[:10]\n",
        "example_result = model.predict(X_train)\n",
        "example_result"
      ],
      "execution_count": 259,
      "outputs": [
        {
          "output_type": "execute_result",
          "data": {
            "text/plain": [
              "array([[318.4725 ],\n",
              "       [372.62958],\n",
              "       [355.19305],\n",
              "       ...,\n",
              "       [306.14566],\n",
              "       [325.68823],\n",
              "       [315.56744]], dtype=float32)"
            ]
          },
          "metadata": {},
          "execution_count": 259
        }
      ]
    },
    {
      "cell_type": "code",
      "metadata": {
        "colab": {
          "base_uri": "https://localhost:8080/"
        },
        "id": "4C45Yg44QvCE",
        "outputId": "d16b1be7-1f1a-41d3-91f5-d117ef4b6fc1"
      },
      "source": [
        "# エポックが終わるごとにドットを一つ出力することで進捗を表示\n",
        "class PrintDot(keras.callbacks.Callback):\n",
        "  def on_epoch_end(self, epoch, logs):\n",
        "    if epoch % 100 == 0: print('')\n",
        "    print('.', end='')\n",
        "\n",
        "EPOCHS = 300\n",
        "\n",
        "history = model.fit(X_train, y_train, epochs=EPOCHS, validation_split = 0.2, verbose=0, callbacks=[PrintDot()])"
      ],
      "execution_count": 260,
      "outputs": [
        {
          "output_type": "stream",
          "name": "stdout",
          "text": [
            "\n",
            "....................................................................................................\n",
            "....................................................................................................\n",
            "...................................................................................................."
          ]
        }
      ]
    },
    {
      "cell_type": "code",
      "metadata": {
        "colab": {
          "base_uri": "https://localhost:8080/",
          "height": 549
        },
        "id": "BaKmCaIJSv79",
        "outputId": "9b9dd79f-ec5e-4136-aba3-49db00513f15"
      },
      "source": [
        "hist = pd.DataFrame(history.history)\n",
        "hist['epoch'] = history.epoch\n",
        "hist.tail()\n",
        "\n",
        "# histryの辞書を入れたらグラフが返ってくる\n",
        "def plot_history(history):\n",
        "  hist = pd.DataFrame(history.history)\n",
        "  hist['epoch'] = history.epoch\n",
        "\n",
        "  plt.figure()\n",
        "  plt.xlabel('Epoch')\n",
        "  plt.ylabel('Mean Abs Error [MPG]')\n",
        "  plt.plot(hist['epoch'], hist['mae'],\n",
        "           label='Train Error')\n",
        "  plt.plot(hist['epoch'], hist['val_mae'],\n",
        "           label = 'Val Error')\n",
        "  plt.ylim([0,5])\n",
        "  plt.legend()\n",
        "\n",
        "  plt.figure()\n",
        "  plt.xlabel('Epoch')\n",
        "  plt.ylabel('Mean Square Error [$MPG^2$]')\n",
        "  plt.plot(hist['epoch'], hist['mse'],\n",
        "           label='Train Error')\n",
        "  plt.plot(hist['epoch'], hist['val_mse'],\n",
        "           label = 'Val Error')\n",
        "  plt.ylim([0,20])\n",
        "  plt.legend()\n",
        "  plt.show()\n",
        "\n",
        "\n",
        "plot_history(history)"
      ],
      "execution_count": 266,
      "outputs": [
        {
          "output_type": "display_data",
          "data": {
            "image/png": "[encoded data removed]",
            "text/plain": [
              "<Figure size 432x288 with 1 Axes>"
            ]
          },
          "metadata": {
            "needs_background": "light"
          }
        },
        {
          "output_type": "display_data",
          "data": {
            "image/png": "[encoded data removed]",
            "text/plain": [
              "<Figure size 432x288 with 1 Axes>"
            ]
          },
          "metadata": {
            "needs_background": "light"
          }
        }
      ]
    },
    {
      "cell_type": "code",
      "metadata": {
        "id": "GlgJZto3WkZy"
      },
      "source": [
        ""
      ],
      "execution_count": 243,
      "outputs": []
    },
    {
      "cell_type": "markdown",
      "metadata": {
        "id": "fGRk1eUSXg6m"
      },
      "source": [
        "## 【問題6】MNISTをKerasで学習"
      ]
    },
    {
      "cell_type": "code",
      "metadata": {
        "id": "8SeLGrKmXilv"
      },
      "source": [
        "from keras.datasets import mnist"
      ],
      "execution_count": 267,
      "outputs": []
    },
    {
      "cell_type": "code",
      "metadata": {
        "colab": {
          "base_uri": "https://localhost:8080/",
          "height": 265
        },
        "id": "73HBz1XRYj9a",
        "outputId": "c372ceff-980b-4c71-f3ed-ffb869d79cb1"
      },
      "source": [
        "# 読み込み\n",
        "(train_images, train_labels), (test_images, test_labels) = mnist.load_data()\n",
        "\n",
        "plt.figure()\n",
        "plt.imshow(train_images[0])\n",
        "plt.colorbar()\n",
        "plt.grid(False)\n",
        "plt.show()\n",
        "\n",
        "# 0~1のスケールへ変換\n",
        "train_images = train_images / 255.0\n",
        "test_images = test_images / 255.0"
      ],
      "execution_count": 287,
      "outputs": [
        {
          "output_type": "display_data",
          "data": {
            "image/png": "[encoded data removed]",
            "text/plain": [
              "<Figure size 432x288 with 2 Axes>"
            ]
          },
          "metadata": {
            "needs_background": "light"
          }
        }
      ]
    },
    {
      "cell_type": "code",
      "metadata": {
        "colab": {
          "base_uri": "https://localhost:8080/",
          "height": 578
        },
        "id": "VwWww2chdmWy",
        "outputId": "e8b3228a-1dc3-4e59-e87b-19815ca11099"
      },
      "source": [
        "plt.figure(figsize=(10,10))\n",
        "for i in range(25):\n",
        "    plt.subplot(5,5,i+1)\n",
        "    plt.xticks([])\n",
        "    plt.yticks([])\n",
        "    plt.grid(False)\n",
        "    plt.imshow(train_images[i], cmap=plt.cm.binary)\n",
        "    \n",
        "plt.show()"
      ],
      "execution_count": 289,
      "outputs": [
        {
          "output_type": "display_data",
          "data": {
            "image/png": "[encoded data removed]",
            "text/plain": [
              "<Figure size 720x720 with 25 Axes>"
            ]
          },
          "metadata": {}
        }
      ]
    },
    {
      "cell_type": "code",
      "metadata": {
        "colab": {
          "base_uri": "https://localhost:8080/"
        },
        "id": "_hYjXQX_YnfA",
        "outputId": "6e116d2a-89ea-4329-f2eb-d3bbe9c685b4"
      },
      "source": [
        "# モデルの構築\n",
        "m_model = keras.Sequential([\n",
        "    keras.layers.Flatten(input_shape=(28, 28)),\n",
        "    keras.layers.Dense(128, activation='relu'),\n",
        "    keras.layers.Dense(10, activation='softmax')\n",
        "])\n",
        "# モデルのコンパイル\n",
        "m_model.compile(optimizer='adam', \n",
        "              loss='sparse_categorical_crossentropy',\n",
        "              metrics=['accuracy'])\n",
        "# モデルの訓練\n",
        "m_model.fit(train_images, train_labels, epochs=5)"
      ],
      "execution_count": 292,
      "outputs": [
        {
          "output_type": "stream",
          "name": "stdout",
          "text": [
            "Epoch 1/5\n",
            "1875/1875 [==============================] - 6s 3ms/step - loss: 2.7866 - accuracy: 0.8602\n",
            "Epoch 2/5\n",
            "1875/1875 [==============================] - 6s 3ms/step - loss: 0.4193 - accuracy: 0.9069\n",
            "Epoch 3/5\n",
            "1875/1875 [==============================] - 5s 3ms/step - loss: 0.2993 - accuracy: 0.9260\n",
            "Epoch 4/5\n",
            "1875/1875 [==============================] - 5s 3ms/step - loss: 0.2566 - accuracy: 0.9356\n",
            "Epoch 5/5\n",
            "1875/1875 [==============================] - 5s 3ms/step - loss: 0.2352 - accuracy: 0.9407\n"
          ]
        },
        {
          "output_type": "execute_result",
          "data": {
            "text/plain": [
              "<keras.callbacks.History at 0x7f44bf13d190>"
            ]
          },
          "metadata": {},
          "execution_count": 292
        }
      ]
    },
    {
      "cell_type": "code",
      "metadata": {
        "colab": {
          "base_uri": "https://localhost:8080/"
        },
        "id": "9nz2z9JPZZf3",
        "outputId": "ea994a9e-b705-4352-ecf3-9656c714c830"
      },
      "source": [
        "# 正解率の評価\n",
        "test_loss, test_acc = m_model.evaluate(test_images,  test_labels, verbose=2)\n",
        "\n",
        "print('\\nTest accuracy:', test_acc)"
      ],
      "execution_count": 294,
      "outputs": [
        {
          "output_type": "stream",
          "name": "stdout",
          "text": [
            "313/313 - 1s - loss: 0.2616 - accuracy: 0.9335\n",
            "\n",
            "Test accuracy: 0.9334999918937683\n"
          ]
        }
      ]
    },
    {
      "cell_type": "code",
      "metadata": {
        "colab": {
          "base_uri": "https://localhost:8080/",
          "height": 589
        },
        "id": "uHdYNl2delAa",
        "outputId": "d3cd2a9d-ec1a-468b-e7b7-8d476e904411"
      },
      "source": [
        "# 予測する\n",
        "predictions = m_model.predict(test_images)\n",
        "\n",
        "num_rows = 5\n",
        "num_cols = 3\n",
        "num_images = num_rows*num_cols\n",
        "plt.figure(figsize=(2*2*num_cols, 2*num_rows))\n",
        "for i in range(num_images):\n",
        "  plt.subplot(num_rows, 2*num_cols, 2*i+1)\n",
        "  plot_image(i, predictions, test_labels, test_images)\n",
        "  plt.subplot(num_rows, 2*num_cols, 2*i+2)\n",
        "  plot_value_array(i, predictions, test_labels)\n",
        "plt.show()"
      ],
      "execution_count": 301,
      "outputs": [
        {
          "output_type": "display_data",
          "data": {
            "image/png": "[encoded data removed]",
            "text/plain": [
              "<Figure size 864x720 with 30 Axes>"
            ]
          },
          "metadata": {}
        }
      ]
    },
    {
      "cell_type": "code",
      "metadata": {
        "colab": {
          "base_uri": "https://localhost:8080/",
          "height": 386
        },
        "id": "GbTi2wEZe8xT",
        "outputId": "c7556b71-673e-4f5e-f04b-1d8e27b707c7"
      },
      "source": [
        "img = test_images[0]\n",
        "\n",
        "print(img.shape)\n",
        "\n",
        "\n",
        "# 画像を1枚だけのバッチのメンバーにする\n",
        "img = (np.expand_dims(img,0))\n",
        "\n",
        "print(img.shape)\n",
        "\n",
        "\n",
        "predictions_single = m_model.predict(img)\n",
        "\n",
        "print(predictions_single)\n",
        "\n",
        "plot_value_array(0, predictions_single, test_labels)\n",
        "_ = plt.xticks(range(10), class_names, rotation=45)"
      ],
      "execution_count": 298,
      "outputs": [
        {
          "output_type": "stream",
          "name": "stdout",
          "text": [
            "(28, 28)\n",
            "(1, 28, 28)\n",
            "[[1.70839191e-21 1.17496681e-12 1.24633308e-08 3.35719051e-07\n",
            "  1.06073606e-14 8.61359922e-07 1.85597665e-22 9.99998808e-01\n",
            "  9.66723143e-12 4.14362979e-08]]\n"
          ]
        },
        {
          "output_type": "display_data",
          "data": {
            "image/png": "[encoded data removed]",
            "text/plain": [
              "<Figure size 432x288 with 1 Axes>"
            ]
          },
          "metadata": {
            "needs_background": "light"
          }
        }
      ]
    },
    {
      "cell_type": "code",
      "metadata": {
        "id": "q3CJdan3fLP9"
      },
      "source": [
        ""
      ],
      "execution_count": null,
      "outputs": []
    }
  ]
}